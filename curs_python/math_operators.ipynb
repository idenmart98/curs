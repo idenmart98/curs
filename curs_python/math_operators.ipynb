{
 "metadata": {
  "language_info": {
   "codemirror_mode": {
    "name": "ipython",
    "version": 3
   },
   "file_extension": ".py",
   "mimetype": "text/x-python",
   "name": "python",
   "nbconvert_exporter": "python",
   "pygments_lexer": "ipython3",
   "version": "3.7.7-final"
  },
  "orig_nbformat": 2,
  "kernelspec": {
   "name": "python_defaultSpec_1600948982201",
   "display_name": "Python 3.7.7 64-bit ('venv': venv)"
  }
 },
 "nbformat": 4,
 "nbformat_minor": 2,
 "cells": [
  {
   "cell_type": "code",
   "execution_count": null,
   "metadata": {},
   "outputs": [],
   "source": [
    "### Математические операторы в python\n",
    "# + сложение\n",
    "# -  вычетания\n",
    "# * умножение\n",
    "# / деление\n",
    "# %  остаток от деления\n",
    "# // деление без остатка\n",
    "# ** возведение в степень\n",
    "### Операторы присвоения\n",
    "# = присваевание\n",
    "# += присвоение с сложением\n",
    "# -= присвоение с вычитанием \n",
    "# *= присвоение с умножением \n",
    "# /= присвоение с делением\n",
    "# %= присвоение с остатком от деления\n",
    "### Операторы сравнения \n",
    "#  == равность\n",
    "# != неравность\n",
    "#  > больше чем\n",
    "#  < меньше чем\n",
    "# >= больше или равно\n",
    "# <= меньше или равно"
   ]
  },
  {
   "cell_type": "code",
   "execution_count": 6,
   "metadata": {
    "tags": []
   },
   "outputs": [
    {
     "output_type": "stream",
     "name": "stdout",
     "text": "7\n4\n12\n4.0\n2\n6\n9\n4.0\n"
    }
   ],
   "source": [
    "# Математические операторы\n",
    "print(3+4)\n",
    "print(7-3)\n",
    "print(3*4)\n",
    "print(8/2)\n",
    "print(20%3)\n",
    "print(20//3)\n",
    "print(3**2)\n",
    "print(16**0.5)"
   ]
  },
  {
   "cell_type": "code",
   "execution_count": 13,
   "metadata": {
    "tags": []
   },
   "outputs": [
    {
     "output_type": "stream",
     "name": "stdout",
     "text": "1.0\n"
    }
   ],
   "source": [
    "#Операторы присвоения\n",
    "a = 2\n",
    "a = a + 4\n",
    "a += 8\n",
    "a -= 3\n",
    "a *= 2\n",
    "a /= 2\n",
    "a %= 2\n",
    "print(a)"
   ]
  },
  {
   "cell_type": "code",
   "execution_count": 22,
   "metadata": {
    "tags": []
   },
   "outputs": [
    {
     "output_type": "stream",
     "name": "stdout",
     "text": "True\nTrue\nTrue\nTrue\n"
    }
   ],
   "source": [
    "# Операторы сравнения\n",
    "if 2==2:\n",
    "    print(True)\n",
    "if 2!=3:\n",
    "    print(True)\n",
    "if 5>4:\n",
    "    print(True)\n",
    "if 5<6:\n",
    "    print(True)\n",
    "else:\n",
    "    print(False)\n"
   ]
  },
  {
   "cell_type": "code",
   "execution_count": null,
   "metadata": {},
   "outputs": [],
   "source": []
  }
 ]
}