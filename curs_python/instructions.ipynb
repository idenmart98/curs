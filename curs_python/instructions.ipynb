{
 "metadata": {
  "language_info": {
   "codemirror_mode": {
    "name": "ipython",
    "version": 3
   },
   "file_extension": ".py",
   "mimetype": "text/x-python",
   "name": "python",
   "nbconvert_exporter": "python",
   "pygments_lexer": "ipython3",
   "version": "3.7.7-final"
  },
  "orig_nbformat": 2,
  "kernelspec": {
   "name": "Python 3.7.7 64-bit ('venv': venv)",
   "display_name": "Python 3.7.7 64-bit ('venv': venv)",
   "metadata": {
    "interpreter": {
     "hash": "6c7425abcce88d156ba29ee6bcd0e2e9d3d18ed9aef7e6082ee8abbf8e2e0d30"
    }
   }
  }
 },
 "nbformat": 4,
 "nbformat_minor": 2,
 "cells": [
  {
   "cell_type": "code",
   "execution_count": 8,
   "metadata": {
    "tags": []
   },
   "outputs": [
    {
     "output_type": "stream",
     "name": "stdout",
     "text": "Больше шести\n"
    }
   ],
   "source": [
    "# Основные инструкции\n",
    "# if/elif/else\n",
    "a = 10\n",
    "if a>6:\n",
    "    print(\"Больше шести\")\n",
    "elif a >=10:\n",
    "    print(\"Больше десяти\")\n",
    "else:\n",
    "    print(\"До шести\")\n"
   ]
  },
  {
   "cell_type": "code",
   "execution_count": 1,
   "metadata": {
    "tags": []
   },
   "outputs": [
    {
     "output_type": "stream",
     "name": "stdout",
     "text": "0\n1\n2\n3\n4\n5\n6\n7\n8\n9\n10\n"
    }
   ],
   "source": [
    "# continue\n",
    "# break\n",
    "a = 10\n",
    "b = 0\n",
    "while True:\n",
    "    print(b)\n",
    "    b +=1\n",
    "    elif b > a:\n",
    "        break\n",
    "\n"
   ]
  },
  {
   "cell_type": "code",
   "execution_count": 5,
   "metadata": {
    "tags": []
   },
   "outputs": [
    {
     "output_type": "stream",
     "name": "stdout",
     "text": "hello world\nhello world\nhello world\nhello world\nhello world\nhello world\nhello world\nhello world\nhello world\nhello world\n"
    }
   ],
   "source": [
    "a = 10\n",
    "b = 0\n",
    "while b != a:\n",
    "    print(\"hello world\")\n",
    "    b+=1 "
   ]
  },
  {
   "cell_type": "code",
   "execution_count": 8,
   "metadata": {
    "tags": []
   },
   "outputs": [
    {
     "output_type": "stream",
     "name": "stdout",
     "text": "2\n4\n6\n8\n10\n12\n14\n16\n18\n"
    }
   ],
   "source": [
    "\n",
    "for i in range(2,20,2):\n",
    "    print(i)\n"
   ]
  },
  {
   "cell_type": "code",
   "execution_count": null,
   "metadata": {},
   "outputs": [],
   "source": []
  }
 ]
}